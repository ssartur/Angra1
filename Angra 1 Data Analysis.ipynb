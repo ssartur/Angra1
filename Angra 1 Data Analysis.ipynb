{
 "cells": [
  {
   "cell_type": "markdown",
   "id": "67090e15-98f8-4e40-b8b1-0cb5d878b0d2",
   "metadata": {},
   "source": [
    "![Logo](https://docs.openmc.org/en/latest/_static/openmc_logo.png)"
   ]
  },
  {
   "cell_type": "markdown",
   "id": "d7c235aa-b52b-49bf-aae3-fbee0f963a81",
   "metadata": {},
   "source": [
    "# Importing necessary libraries"
   ]
  },
  {
   "cell_type": "code",
   "execution_count": null,
   "id": "4ecd6343-ad1e-451b-b0cd-56c6b25cd4b5",
   "metadata": {},
   "outputs": [],
   "source": [
    "import os\n",
    "import openmc\n",
    "import numpy as np\n",
    "import matplotlib.pyplot as plt\n",
    "%matplotlib tk"
   ]
  },
  {
   "cell_type": "markdown",
   "id": "72a7b439-8e7e-48f6-9f16-9f0170bbf022",
   "metadata": {},
   "source": [
    "# Necessary inputs"
   ]
  },
  {
   "cell_type": "code",
   "execution_count": null,
   "id": "208e28f2-48c8-48c5-bab9-a62164739365",
   "metadata": {},
   "outputs": [],
   "source": [
    "# Statepoint file path:\n",
    "\n",
    "path = os.getcwd() + '/statepoint.130.h5'\n",
    "\n",
    "# Fuel assembly pitch:\n",
    "\n",
    "pitch = 1.233598\n",
    "\n",
    "# Number of rods in each dimension of the assembly:\n",
    "\n",
    "N = 16\n",
    "\n",
    "# Number of assemblies in each dimension of the core lattice:\n",
    "\n",
    "NA = 13\n",
    "\n",
    "# Outer radius of the core barrel:\n",
    "\n",
    "TR = 167.64 + 16.83\n",
    "\n",
    "# Model height:\n",
    "\n",
    "height = 1.0"
   ]
  },
  {
   "cell_type": "markdown",
   "id": "2db31d20-9d98-4ab1-a140-b97a57f1f63c",
   "metadata": {},
   "source": [
    "# Extracting data from the statepoint file"
   ]
  },
  {
   "cell_type": "code",
   "execution_count": null,
   "id": "49b29844-2031-4207-a3ea-15190991898d",
   "metadata": {},
   "outputs": [],
   "source": [
    "# Opening the statepoint file (instatiates a StatePoint class object):\n",
    "\n",
    "SP = openmc.StatePoint(path)\n",
    "\n",
    "# Method to extract the tallies from the statepoint (returns a Tally class object):\n",
    "\n",
    "universe_results = SP.get_tally(name = 'Universe Tally')\n",
    "print(universe_results)\n",
    "\n",
    "energy_results = SP.get_tally(name = 'Energy Tally')\n",
    "print(energy_results)\n",
    "\n",
    "assembly_mesh_results = SP.get_tally(name = 'Assembly Mesh Tally')\n",
    "print(assembly_mesh_results)\n",
    "\n",
    "rod_mesh_results = SP.get_tally(name = 'Rod Mesh Tally')\n",
    "print(rod_mesh_results)"
   ]
  },
  {
   "cell_type": "markdown",
   "id": "bf86a263-520a-4e52-ba1c-c6b584792b39",
   "metadata": {},
   "source": [
    "# Verifying source convergence"
   ]
  },
  {
   "cell_type": "code",
   "execution_count": null,
   "id": "aca3bfd2-8765-4f16-ae1c-096a82c6e0b0",
   "metadata": {},
   "outputs": [],
   "source": [
    "keff = SP.k_generation\n",
    "entropy = SP.entropy\n",
    "\n",
    "CONV1 = plt.figure(figsize = (8, 6))\n",
    "GCONV1 = CONV1.add_subplot(111)\n",
    "GCONV1.plot(keff, '-r')\n",
    "GCONV1.set_title('Convergence of $k_{eff}$', math_fontfamily = 'cm', size = 16, pad = 12)\n",
    "GCONV1.set_xlabel('Cicle', size = 12)\n",
    "GCONV1.set_ylabel('$k_{eff}$', math_fontfamily = 'cm', size = 12)\n",
    "\n",
    "CONV2 = plt.figure(figsize = (8, 6))\n",
    "GCONV2 = CONV2.add_subplot(111)\n",
    "GCONV2.plot(entropy, '-g')\n",
    "GCONV2.set_title('Convergence of Source Distribuition', size = 16, pad = 12)\n",
    "GCONV2.set_xlabel('Cicle', size = 12)\n",
    "GCONV2.set_ylabel('Shannon Entropy (bits)', size = 12)"
   ]
  },
  {
   "cell_type": "markdown",
   "id": "ba6c4155-f09c-497c-aa91-0f4537acb240",
   "metadata": {},
   "source": [
    "# Source Distribuition"
   ]
  },
  {
   "cell_type": "markdown",
   "id": "b192adee-eab6-40aa-8a74-74d803ed4012",
   "metadata": {},
   "source": [
    "## Fission neutron energy"
   ]
  },
  {
   "cell_type": "code",
   "execution_count": null,
   "id": "ea21fe20-066e-4c60-a327-ad7123764590",
   "metadata": {},
   "outputs": [],
   "source": [
    "# Energy bins from 1 keV to 10 MeV in logarithmic scale:\n",
    "\n",
    "energy_bins = np.logspace(start = 3, stop = 7, num = 100, endpoint = True, base = 10)\n",
    "\n",
    "# Plot the histogram:\n",
    "\n",
    "SOURCE1 = plt.figure(figsize = (8, 6))\n",
    "GSOURCE1 = SOURCE1.add_subplot(111, xscale = 'log')\n",
    "values, bins, patches = GSOURCE1.hist(SP.source['E'], energy_bins, density = False)\n",
    "GSOURCE1.set_title('Fission Neutron Energy', size = 16, pad = 12)\n",
    "GSOURCE1.set_xlabel('Energy (eV)', math_fontfamily = 'cm', size = 12)\n",
    "GSOURCE1.set_ylabel('Number of particles', math_fontfamily = 'cm', size = 12)\n",
    "\n",
    "# Make sure that summing the values of all bins returns the total number of particles simulated:\n",
    "\n",
    "print(sum(values))"
   ]
  },
  {
   "cell_type": "markdown",
   "id": "604ba306-7238-488e-8013-c91acc345dff",
   "metadata": {},
   "source": [
    "## Fission locations"
   ]
  },
  {
   "cell_type": "code",
   "execution_count": null,
   "id": "1dcc269b-ceca-41ea-993c-4f5e02c7464a",
   "metadata": {},
   "outputs": [],
   "source": [
    "SOURCE2 = plt.figure(figsize = (8, 6))\n",
    "GSOURCE2 = SOURCE2.add_subplot(111)\n",
    "VECTORS = GSOURCE2.quiver(SP.source['r']['x'], SP.source['r']['y'],\n",
    "              SP.source['u']['x'], SP.source['u']['y'], \n",
    "              np.log10(SP.source['E']), cmap = 'jet', scale = 30)\n",
    "SOURCE2.colorbar(VECTORS)\n",
    "GSOURCE2.set_title('Fission Locations', size = 16, pad = 12)\n",
    "GSOURCE2.set_xlim(-TR, TR)\n",
    "GSOURCE2.set_ylim(-TR, TR)"
   ]
  },
  {
   "cell_type": "markdown",
   "id": "5a20227a-626f-4410-a0e9-e072569d76aa",
   "metadata": {},
   "source": [
    "## Delayed neutrons"
   ]
  },
  {
   "cell_type": "code",
   "execution_count": null,
   "id": "aad394fa-bd91-4983-852e-27b47c553550",
   "metadata": {},
   "outputs": [],
   "source": [
    "delayed_neutrons = []\n",
    "for i in SP.source['delayed_group']:\n",
    "    if i != 0:\n",
    "        delayed_neutrons.append(i)\n",
    "\n",
    "SOURCE3 = plt.figure(figsize = (8, 6))\n",
    "GSOURCE3 = SOURCE3.add_subplot(111)\n",
    "GSOURCE3.hist(delayed_neutrons, [0.5, 1.5, 2.5, 3.5, 4.5, 5.5, 6.5])\n",
    "GSOURCE3.set_title('Delayed Neutrons', size = 16, pad = 12)\n",
    "GSOURCE3.set_xlabel('Delayed Neutron Groups', size = 12)\n",
    "GSOURCE3.set_ylabel('Number of particles', size = 12)\n",
    "GSOURCE3.set_xticks([1, 2, 3, 4, 5, 6])"
   ]
  },
  {
   "cell_type": "markdown",
   "id": "df35f287-79f9-4e74-873d-ec124e798d27",
   "metadata": {},
   "source": [
    "# Tally Analysis"
   ]
  },
  {
   "cell_type": "markdown",
   "id": "c0b6d81b-791a-401c-a844-4c65b3bc3b0b",
   "metadata": {},
   "source": [
    "## Normalization factor"
   ]
  },
  {
   "cell_type": "code",
   "execution_count": null,
   "id": "1f224bc1-c6ae-40c0-a27d-34a0b83e666c",
   "metadata": {},
   "outputs": [],
   "source": [
    "# Total volume of the model [m³]:\n",
    "\n",
    "total_volume = np.pi*(TR**2)*height/1000000\n",
    "\n",
    "# Estimated power density [W/m³]:\n",
    "\n",
    "power_density = 107.9*1000*1000\n",
    "\n",
    "# Estimated total power [W]:\n",
    "\n",
    "power = power_density*total_volume\n",
    "\n",
    "print(power)\n",
    "\n",
    "# Conversion factor from eV to Joule [J/eV]:\n",
    "\n",
    "eV = 1.602*(10**(-19))\n",
    "\n",
    "# Value of 'heating-local' score over the entire model [eV/particle]:\n",
    "\n",
    "H = universe_results.get_values(scores = ['heating-local'], filters = [], filter_bins = [], \n",
    "                                nuclides = [], value = 'mean')\n",
    "\n",
    "print(H)\n",
    "\n",
    "# Total heating [J/particle]:\n",
    "\n",
    "H = H[0][0][0]*eV\n",
    "\n",
    "print(H)\n",
    "\n",
    "# Normalization factor [particle/second]:\n",
    "\n",
    "Nfactor = power/H\n",
    "\n",
    "print(Nfactor)"
   ]
  },
  {
   "cell_type": "markdown",
   "id": "c8a77016-d1f2-4355-80b1-32f36d27fc6d",
   "metadata": {},
   "source": [
    "## Universe tally"
   ]
  },
  {
   "cell_type": "code",
   "execution_count": null,
   "id": "40ccd63f-0eea-4d56-92df-069f8f744d05",
   "metadata": {},
   "outputs": [],
   "source": [
    "# Print the universe tally results:\n",
    "\n",
    "universe_results.get_pandas_dataframe()"
   ]
  },
  {
   "cell_type": "markdown",
   "id": "a5cf9fe6-3550-4636-a496-13d8e85371ba",
   "metadata": {},
   "source": [
    "## Neutron flux spectrum"
   ]
  },
  {
   "cell_type": "code",
   "execution_count": null,
   "id": "d997cb2a-d603-415f-a5e2-4eb250f4a850",
   "metadata": {},
   "outputs": [],
   "source": [
    "energy_bins = np.logspace(start = -3, stop = 7, num = 1000, endpoint = True, base = 10)\n",
    "energy_values = (np.diff(energy_bins)/2) + energy_bins[:999]\n",
    "\n",
    "flux_spectrum = energy_results.get_values(scores = ['flux'], filters = [], filter_bins = [], \n",
    "                                          nuclides = [], value = 'mean').flatten()\n",
    "\n",
    "flux_spectrum_std_dev = energy_results.get_values(scores = ['flux'], filters = [], filter_bins = [], \n",
    "                                                  nuclides = [], value = 'std_dev').flatten()\n",
    "\n",
    "SPECTRUM1 = plt.figure(figsize = (8, 6))\n",
    "GSPECTRUM1 = SPECTRUM1.add_subplot(111)\n",
    "GSPECTRUM1.loglog(energy_values, flux_spectrum[:]/np.diff(energy_bins), base = 10, linewidth = 1)\n",
    "GSPECTRUM1.fill_between(energy_values, (flux_spectrum[:] - flux_spectrum_std_dev)/np.diff(energy_bins), (flux_spectrum[:] + flux_spectrum_std_dev)/np.diff(energy_bins), alpha = 0.3)\n",
    "GSPECTRUM1.set_title('Neutron Flux Spectrum', size = 16, pad = 12)\n",
    "GSPECTRUM1.set_xlabel('Energy (eV)', math_fontfamily = 'cm', size = 12)\n",
    "GSPECTRUM1.set_ylabel('Flux $(cm^{-2}s^{-1})$', math_fontfamily = 'cm', size = 12)"
   ]
  },
  {
   "cell_type": "code",
   "execution_count": null,
   "id": "2b9a75c4-7946-4a5c-9b4d-e4993953b3ac",
   "metadata": {},
   "outputs": [],
   "source": [
    "flux_spectrum_rel_unc = energy_results.get_values(scores = ['flux'], filters = [], filter_bins = [], \n",
    "                                                  nuclides = [], value = 'rel_err').flatten()\n",
    "\n",
    "SPECTRUM2 = plt.figure(figsize = (8, 6))\n",
    "GSPECTRUM2 = SPECTRUM2.add_subplot(111)\n",
    "GSPECTRUM2.hist(flux_spectrum_rel_unc, bins = 100)\n",
    "GSPECTRUM2.set_title('NFS Relative Uncertainty', size = 16, pad = 12)\n",
    "GSPECTRUM2.set_xlabel('Relative Uncertainty', size = 12)\n",
    "GSPECTRUM2.set_ylabel('Number of bins', size = 12)"
   ]
  },
  {
   "cell_type": "markdown",
   "id": "7cbb033d-045a-454d-9961-3b6ccae97172",
   "metadata": {},
   "source": [
    "## Neutron flux"
   ]
  },
  {
   "cell_type": "code",
   "execution_count": null,
   "id": "df14a877-bc82-4c41-94b7-67faa65e256d",
   "metadata": {},
   "outputs": [],
   "source": [
    "flux_mean = assembly_mesh_results.get_values(scores = ['flux'], filters = [], filter_bins = [], nuclides = [], value = 'mean').reshape(13, 13, 1)\n",
    "\n",
    "flux_unc = assembly_mesh_results.get_values(scores = ['flux'], filters = [], filter_bins = [], nuclides = [], value = 'std_dev').reshape(13, 13, 1)\n",
    "\n",
    "flux_rel_unc = assembly_mesh_results.get_values(scores = ['flux'], filters = [], filter_bins = [], nuclides = [], value = 'rel_err').flatten()\n",
    "\n",
    "FLUX1 = plt.figure(figsize = (8, 6))\n",
    "GFLUX1 = FLUX1.add_subplot(111)\n",
    "GFLUX1.set_title('Relative Assembly Power', size = 16, pad = 12)\n",
    "FLUX1.colorbar(GFLUX1.imshow(flux_mean[:,:,0], cmap = 'jet'))\n",
    "\n",
    "FLUX2 = plt.figure(figsize = (8, 6))\n",
    "GFLUX2 = FLUX2.add_subplot(111)\n",
    "GFLUX2.set_title('Neutron Flux Uncertainty', size = 16, pad = 12)\n",
    "FLUX2.colorbar(GFLUX2.imshow(flux_unc[:,:,0], cmap = 'jet'))\n",
    "\n",
    "FLUX3 = plt.figure(figsize = (8, 6))\n",
    "GFLUX3 = FLUX3.add_subplot(111)\n",
    "GFLUX3.set_title('NF Relative Uncertainty', size = 16, pad = 12)\n",
    "GFLUX3.hist(flux_rel_unc, bins = 100)"
   ]
  },
  {
   "cell_type": "code",
   "execution_count": null,
   "id": "e8399f37-5faa-45dc-a45c-52b4e2dcda7b",
   "metadata": {},
   "outputs": [],
   "source": [
    "flux_mean = rod_mesh_results.get_values(scores = ['heating-local'], filters = [], filter_bins = [], nuclides = [], value = 'mean').reshape(16*13, 16*13, 1)\n",
    "\n",
    "flux_unc = rod_mesh_results.get_values(scores = ['heating-local'], filters = [], filter_bins = [], nuclides = [], value = 'std_dev').reshape(16*13, 16*13, 1)\n",
    "\n",
    "flux_rel_unc = rod_mesh_results.get_values(scores = ['heating-local'], filters = [], filter_bins = [], nuclides = [], value = 'rel_err').flatten()\n",
    "\n",
    "FLUX1 = plt.figure(figsize = (8, 6))\n",
    "GFLUX1 = FLUX1.add_subplot(111)\n",
    "GFLUX1.set_title('Relative Power', size = 16, pad = 12)\n",
    "FLUX1.colorbar(GFLUX1.imshow(flux_mean[:,:,0], cmap = 'jet'))\n",
    "\n",
    "FLUX2 = plt.figure(figsize = (8, 6))\n",
    "GFLUX2 = FLUX2.add_subplot(111)\n",
    "GFLUX2.set_title('Neutron Flux Uncertainty', size = 16, pad = 12)\n",
    "FLUX2.colorbar(GFLUX2.imshow(flux_unc[:,:,0], cmap = 'jet'))\n",
    "\n",
    "FLUX3 = plt.figure(figsize = (8, 6))\n",
    "GFLUX3 = FLUX3.add_subplot(111)\n",
    "GFLUX3.set_title('NF Relative Uncertainty', size = 16, pad = 12)\n",
    "GFLUX3.hist(flux_rel_unc, bins = 100)"
   ]
  }
 ],
 "metadata": {
  "kernelspec": {
   "display_name": "Python 3 (ipykernel)",
   "language": "python",
   "name": "python3"
  },
  "language_info": {
   "codemirror_mode": {
    "name": "ipython",
    "version": 3
   },
   "file_extension": ".py",
   "mimetype": "text/x-python",
   "name": "python",
   "nbconvert_exporter": "python",
   "pygments_lexer": "ipython3",
   "version": "3.10.6"
  },
  "toc-autonumbering": true
 },
 "nbformat": 4,
 "nbformat_minor": 5
}
