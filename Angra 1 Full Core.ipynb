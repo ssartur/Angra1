{
 "cells": [
  {
   "cell_type": "markdown",
   "id": "common-divorce",
   "metadata": {},
   "source": [
    "![Logo](https://docs.openmc.org/en/latest/_static/openmc_logo.png)"
   ]
  },
  {
   "cell_type": "markdown",
   "id": "prime-regular",
   "metadata": {},
   "source": [
    "# Importing libraries"
   ]
  },
  {
   "cell_type": "code",
   "execution_count": null,
   "id": "meaning-drama",
   "metadata": {},
   "outputs": [],
   "source": [
    "import sys\n",
    "import openmc\n",
    "import numpy as np\n",
    "import matplotlib.pyplot as plt\n",
    "%matplotlib tk"
   ]
  },
  {
   "cell_type": "code",
   "execution_count": null,
   "id": "ba00b073-92f9-4071-88db-4d8cea4c8fa8",
   "metadata": {},
   "outputs": [],
   "source": [
    "sys.path.append('/home/ssartur/Documents/OpenMC/NuReMa')\n",
    "from thermophysicaldata import *"
   ]
  },
  {
   "cell_type": "markdown",
   "id": "accompanied-percentage",
   "metadata": {
    "tags": []
   },
   "source": [
    "# Building Angra 1 core"
   ]
  },
  {
   "cell_type": "markdown",
   "id": "7640b7cc-0b8d-4c06-b5ef-f2cfcb3423bb",
   "metadata": {},
   "source": [
    "## Inputs"
   ]
  },
  {
   "cell_type": "markdown",
   "id": "6be998a7-8324-400a-821a-006401931623",
   "metadata": {},
   "source": [
    "Pitch obtained from Luciano's thesis. \\\n",
    "Hot zero power data obtained from Westinghouse's Angra 1 Cycle 1 Data Book."
   ]
  },
  {
   "cell_type": "code",
   "execution_count": null,
   "id": "df4658f9-78a3-4aa0-9e2b-ef3555f454b1",
   "metadata": {},
   "outputs": [],
   "source": [
    "# Fuel rod pitch:\n",
    "\n",
    "pitch = 1.233598\n",
    "\n",
    "# Global temperature:\n",
    "\n",
    "T = 564.82 # K\n",
    "\n",
    "# Fuel temperature:\n",
    "\n",
    "Tf = 564.82 # K\n",
    "\n",
    "# Coolant pressure:\n",
    "\n",
    "p = 15.51 # MP\n",
    "\n",
    "# Helium pressure:\n",
    "\n",
    "p_He = 3e6 # P\n",
    "\n",
    "# Boron concentration:\n",
    "\n",
    "boron_ppm = 0 #ppm"
   ]
  },
  {
   "cell_type": "markdown",
   "id": "spiritual-poverty",
   "metadata": {
    "tags": []
   },
   "source": [
    "## Materials"
   ]
  },
  {
   "cell_type": "markdown",
   "id": "f26dba3a-7089-4827-8cec-e41a9868e3fe",
   "metadata": {},
   "source": [
    "Materials compositons and densities obtained from BEAVRS. \\\n",
    "Uranium enrichments obtained from Westinghouse's Angra 1 Cycle 1 Data Book. \\\n",
    "Materials densities as functions of temperature and/or pressure obtained from IAEA's Thermophysical Properties of Materials for Nuclear Engineering."
   ]
  },
  {
   "cell_type": "code",
   "execution_count": null,
   "id": "01933666-b819-4145-8367-fa93aab6195f",
   "metadata": {},
   "outputs": [],
   "source": [
    "# Uranium dioxide 2.1% enriched:\n",
    "\n",
    "UO2_21 = openmc.Material(1, 'UO2 2.1%', temperature = Tf)\n",
    "UO2_21.add_element('U', 1.0, enrichment = 2.1)\n",
    "UO2_21.add_nuclide('O16', 2.0)\n",
    "UO2_21.set_density('g/cm3', UO2_density(Tf))\n",
    "print(UO2_21)\n",
    "\n",
    "# Uranium dioxide 2.6% enriched:\n",
    "\n",
    "UO2_26 = openmc.Material(2, 'UO2 2.6%', temperature = Tf)\n",
    "UO2_26.add_element('U', 1.0, enrichment = 2.6)\n",
    "UO2_26.add_nuclide('O16', 2.0)\n",
    "UO2_26.set_density('g/cm3', UO2_density(Tf))\n",
    "print(UO2_26)\n",
    "\n",
    "# Uranium dioxide 3.1% enriched:\n",
    "\n",
    "UO2_31 = openmc.Material(3, 'UO2 3.1%', temperature = Tf)\n",
    "UO2_31.add_element('U', 1.0, enrichment = 3.1)\n",
    "UO2_31.add_nuclide('O16', 2.0)\n",
    "UO2_31.set_density('g/cm3', UO2_density(Tf))\n",
    "print(UO2_31)\n",
    "\n",
    "# Helium:\n",
    "\n",
    "Helium = openmc.Material(4, 'Helium', temperature = T)\n",
    "Helium.add_nuclide('He4', 1.0)\n",
    "Helium.set_density('g/cm3', helium_density(T, p_He))\n",
    "print(Helium)\n",
    "\n",
    "# Zircaloy 4:\n",
    "\n",
    "Zircaloy = openmc.Material(5, 'Zircaloy 4', temperature = T)\n",
    "Zircaloy.add_element('Zr', 0.98115, 'wo')\n",
    "Zircaloy.add_element('Cr', 0.0010, 'wo')\n",
    "Zircaloy.add_element('Sn', 0.0145, 'wo')\n",
    "Zircaloy.add_element('Fe', 0.0021, 'wo')\n",
    "Zircaloy.add_nuclide('O16', 0.00125, 'wo')\n",
    "Zircaloy.set_density('g/cm3', zirconium_density(T))\n",
    "print(Zircaloy)\n",
    "\n",
    "# Borated water:\n",
    "    \n",
    "H2O = openmc.Material(6, 'Borated Water', temperature = T)\n",
    "H2O.add_nuclide('H1', 2.0)\n",
    "H2O.add_nuclide('O16', 1.0)\n",
    "H2O.add_element('B', boron_ppm*(1e-6))\n",
    "H2O.set_density('g/cm3', openmc.data.water_density(T, p))\n",
    "H2O.add_s_alpha_beta('c_H_in_H2O')\n",
    "print(H2O)\n",
    "\n",
    "# Control rod absorber alloy:\n",
    "\n",
    "AgInCd = openmc.Material(7, 'AgInCd')\n",
    "AgInCd.add_element('Ag', 0.80, 'wo')\n",
    "AgInCd.add_element('In', 0.15, 'wo')\n",
    "AgInCd.add_element('Cd', 0.05, 'wo')\n",
    "AgInCd.set_density('g/cm3', 10.16)\n",
    "print(AgInCd)\n",
    "\n",
    "# Borosilicate glass (burnable poison):\n",
    "\n",
    "Borosilicate = openmc.Material(8, 'Borosilicate Glass')\n",
    "Borosilicate.add_nuclide('O16', 0.5481, 'wo')\n",
    "Borosilicate.add_element('Si', 0.3787, 'wo')\n",
    "Borosilicate.add_element('Al', 0.0344, 'wo')\n",
    "Borosilicate.add_nuclide('B10', 0.0071, 'wo')\n",
    "Borosilicate.add_nuclide('B11', 0.0317, 'wo')\n",
    "Borosilicate.set_density('g/cm3', 2.26)\n",
    "print(Borosilicate)\n",
    "\n",
    "# Stainless steel 304:\n",
    "\n",
    "Steel = openmc.Material(9, 'Stainless Steel 304')\n",
    "Steel.add_element('Fe', 0.6840, 'wo')\n",
    "Steel.add_element('Ni', 0.1000, 'wo')\n",
    "Steel.add_element('Cr', 0.1900, 'wo')\n",
    "Steel.add_element('Mn', 0.0200, 'wo')\n",
    "Steel.add_element('Si', 0.0060, 'wo')\n",
    "Steel.set_density('g/cm3', 8.03)\n",
    "print(Steel)\n",
    "\n",
    "# Inconel 718:\n",
    "\n",
    "Inconel = openmc.Material(10, 'Inconel 718')\n",
    "Inconel.add_element('Fe', 0.2863, 'wo')\n",
    "Inconel.add_element('Ni', 0.5119, 'wo')\n",
    "Inconel.add_element('Cr', 0.1896, 'wo')\n",
    "Inconel.add_element('Mn', 0.0087, 'wo')\n",
    "Inconel.add_element('Si', 0.0035, 'wo')\n",
    "Inconel.set_density('g/cm3', 8.2)\n",
    "print(Inconel)\n",
    "\n",
    "# Air:\n",
    "\n",
    "Air = openmc.Material(11, 'Air')\n",
    "Air.add_nuclide('O16', 0.2095 + 0.0048, 'wo')\n",
    "Air.add_nuclide('N14', 0.7809 + 0.0048, 'wo')\n",
    "Air.set_density('g/cm3', 0.000616)\n",
    "print(Air)\n",
    "\n",
    "# Exporting the materials list to XML and indicate the address to the nuclear data library:\n",
    "\n",
    "materials = openmc.Materials([UO2_21, UO2_26, UO2_31, Helium, Zircaloy, H2O, AgInCd, Borosilicate, Steel, Inconel, Air])\n",
    "materials.cross_sections = '/home/ssartur/Documents/Nuclear Data/ENDFB 8.0/cross_sections.xml'\n",
    "materials.export_to_xml()"
   ]
  },
  {
   "cell_type": "markdown",
   "id": "specialized-mouth",
   "metadata": {},
   "source": [
    "## Geometry"
   ]
  },
  {
   "cell_type": "markdown",
   "id": "c94f1da2-e34a-4b40-b050-8e0474a476e1",
   "metadata": {},
   "source": [
    "### Fuel rod geometry"
   ]
  },
  {
   "cell_type": "markdown",
   "id": "faf864ee-d7fb-4a2b-8bcd-0559b8104115",
   "metadata": {},
   "source": [
    "Fuel rod radii obtained from Luciano's thesis."
   ]
  },
  {
   "cell_type": "code",
   "execution_count": null,
   "id": "verified-smoke",
   "metadata": {},
   "outputs": [],
   "source": [
    "# Fuel rod surfaces:\n",
    "\n",
    "fuel_outer_radius = openmc.ZCylinder(x0 = 0.0, y0 = 0.0, r = UO2_expansion(0.4096, 298, Tf))\n",
    "gap_outer_radius = openmc.ZCylinder(x0 = 0.0, y0 = 0.0, r = zirconium_expansion(0.4096 + 0.0083, 298, T))\n",
    "clad_outer_radius = openmc.ZCylinder(x0 = 0.0, y0 = 0.0, r = zirconium_expansion(0.4096 + 0.0083 + 0.0572, 298, T))\n",
    "\n",
    "# Fuel rod regions:\n",
    "\n",
    "fuel_region = -fuel_outer_radius\n",
    "gap_region = -gap_outer_radius & +fuel_outer_radius\n",
    "clad_region = -clad_outer_radius & +gap_outer_radius\n",
    "moderator_region = +clad_outer_radius\n",
    "\n",
    "# Fuel rod cells:\n",
    "\n",
    "fuel_cell_R1 = openmc.Cell(fill = UO2_21, region = fuel_region)\n",
    "fuel_cell_R2 = openmc.Cell(fill = UO2_26, region = fuel_region)\n",
    "fuel_cell_R3 = openmc.Cell(fill = UO2_31, region = fuel_region)\n",
    "gap_cell_R1 = openmc.Cell(fill = Helium, region = gap_region)\n",
    "gap_cell_R2 = openmc.Cell(fill = Helium, region = gap_region)\n",
    "gap_cell_R3 = openmc.Cell(fill = Helium, region = gap_region)\n",
    "clad_cell_R1 = openmc.Cell(fill = Zircaloy, region = clad_region)\n",
    "clad_cell_R2 = openmc.Cell(fill = Zircaloy, region = clad_region)\n",
    "clad_cell_R3 = openmc.Cell(fill = Zircaloy, region = clad_region)\n",
    "moderator_cell_R1 = openmc.Cell(fill = H2O, region = moderator_region)\n",
    "moderator_cell_R2 = openmc.Cell(fill = H2O, region = moderator_region)\n",
    "moderator_cell_R3 = openmc.Cell(fill = H2O, region = moderator_region)\n",
    "\n",
    "# Fuel rod universes:\n",
    "\n",
    "F1 = openmc.Universe(cells = [fuel_cell_R1, gap_cell_R1, clad_cell_R1, moderator_cell_R1])\n",
    "F2 = openmc.Universe(cells = [fuel_cell_R2, gap_cell_R2, clad_cell_R2, moderator_cell_R2])\n",
    "F3 = openmc.Universe(cells = [fuel_cell_R3, gap_cell_R3, clad_cell_R3, moderator_cell_R3])"
   ]
  },
  {
   "cell_type": "markdown",
   "id": "079c93e6-89d2-4708-966c-cea5c17b864d",
   "metadata": {},
   "source": [
    "### Control rod geometry"
   ]
  },
  {
   "cell_type": "markdown",
   "id": "c676b388-ea3a-4c49-9662-65fbae68733e",
   "metadata": {},
   "source": [
    "Control rod radii obtained from Luciano's thesis."
   ]
  },
  {
   "cell_type": "code",
   "execution_count": null,
   "id": "f7fe6dfd-6b97-4654-8ddf-7190362a9eb4",
   "metadata": {},
   "outputs": [],
   "source": [
    "radii_list = [0.417830, 0.421640, 0.466090, 0.552450, 0.598170]\n",
    "materials_list = [AgInCd, Air, Steel, H2O, Zircaloy, H2O]\n",
    "\n",
    "innermost_cell = openmc.Cell(fill = materials_list[0], region = -openmc.ZCylinder(x0 = 0.0, y0 = 0.0, r = radii_list[0]))\n",
    "outermost_cell = openmc.Cell(fill = materials_list[-1], region = +openmc.ZCylinder(x0 = 0.0, y0 = 0.0, r = radii_list[-1]))\n",
    "\n",
    "cells_list = [innermost_cell]\n",
    "\n",
    "for i in range(len(radii_list) - 1):\n",
    "    inner_surface = openmc.ZCylinder(x0 = 0.0, y0 = 0.0, r = radii_list[i])\n",
    "    outer_surface = openmc.ZCylinder(x0 = 0.0, y0 = 0.0, r = radii_list[i + 1])\n",
    "    region = +inner_surface & -outer_surface\n",
    "    cell = openmc.Cell(fill = materials_list[i + 1], region = region)\n",
    "    cells_list.append(cell)\n",
    "\n",
    "cells_list.append(outermost_cell)\n",
    "\n",
    "CR = openmc.Universe(cells = cells_list)"
   ]
  },
  {
   "cell_type": "markdown",
   "id": "1aa45fb1-98e1-4462-b311-b6f93e13afff",
   "metadata": {},
   "source": [
    "### Burnable poison rod geometry"
   ]
  },
  {
   "cell_type": "markdown",
   "id": "46156000-a66e-4eaf-885e-1044ea3172e0",
   "metadata": {},
   "source": [
    "Burnable poison rod radii obtained from Luciano's thesis."
   ]
  },
  {
   "cell_type": "code",
   "execution_count": null,
   "id": "d2d7dcfc-30bc-43d5-8504-b54ae68dbfda",
   "metadata": {},
   "outputs": [],
   "source": [
    "radii_list = [0.198755, 0.215265, 0.226060, 0.411480, 0.421640, 0.466090, 0.552450, 0.598170]\n",
    "materials_list = [Air, Steel, Air, Borosilicate, Air, Steel, H2O, Zircaloy, H2O]\n",
    "\n",
    "innermost_cell = openmc.Cell(fill = materials_list[0], region = -openmc.ZCylinder(x0 = 0.0, y0 = 0.0, r = radii_list[0]))\n",
    "outermost_cell = openmc.Cell(fill = materials_list[-1], region = +openmc.ZCylinder(x0 = 0.0, y0 = 0.0, r = radii_list[-1]))\n",
    "\n",
    "cells_list = [innermost_cell]\n",
    "\n",
    "for i in range(len(radii_list) - 1):\n",
    "    inner_surface = openmc.ZCylinder(x0 = 0.0, y0 = 0.0, r = radii_list[i])\n",
    "    outer_surface = openmc.ZCylinder(x0 = 0.0, y0 = 0.0, r = radii_list[i + 1])\n",
    "    region = +inner_surface & -outer_surface\n",
    "    cell = openmc.Cell(fill = materials_list[i + 1], region = region)\n",
    "    cells_list.append(cell)\n",
    "\n",
    "cells_list.append(outermost_cell)\n",
    "\n",
    "BR = openmc.Universe(cells = cells_list)"
   ]
  },
  {
   "cell_type": "markdown",
   "id": "ddc83e13-d789-47f6-8cf2-58e9fba7cd5a",
   "metadata": {},
   "source": [
    "### Empty rod geometry"
   ]
  },
  {
   "cell_type": "markdown",
   "id": "a3624807-5f9b-4f4b-af07-cd3c03168ff1",
   "metadata": {},
   "source": [
    "Empty rod radii obtained from Luciano's thesis."
   ]
  },
  {
   "cell_type": "code",
   "execution_count": null,
   "id": "6cd45427-165d-4d29-8595-9199cccb0716",
   "metadata": {},
   "outputs": [],
   "source": [
    "radii_list = [0.552450, 0.598170]\n",
    "materials_list = [H2O, Zircaloy, H2O]\n",
    "\n",
    "innermost_cell = openmc.Cell(fill = materials_list[0], region = -openmc.ZCylinder(x0 = 0.0, y0 = 0.0, r = radii_list[0]))\n",
    "outermost_cell = openmc.Cell(fill = materials_list[-1], region = +openmc.ZCylinder(x0 = 0.0, y0 = 0.0, r = radii_list[-1]))\n",
    "\n",
    "cells_list = [innermost_cell]\n",
    "\n",
    "for i in range(len(radii_list) - 1):\n",
    "    inner_surface = openmc.ZCylinder(x0 = 0.0, y0 = 0.0, r = radii_list[i])\n",
    "    outer_surface = openmc.ZCylinder(x0 = 0.0, y0 = 0.0, r = radii_list[i + 1])\n",
    "    region = +inner_surface & -outer_surface\n",
    "    cell = openmc.Cell(fill = materials_list[i + 1], region = region)\n",
    "    cells_list.append(cell)\n",
    "\n",
    "cells_list.append(outermost_cell)\n",
    "\n",
    "ER = openmc.Universe(cells = cells_list)"
   ]
  },
  {
   "cell_type": "markdown",
   "id": "extensive-convertible",
   "metadata": {
    "tags": []
   },
   "source": [
    "### Fuel assembly geometry"
   ]
  },
  {
   "cell_type": "markdown",
   "id": "d68ca714-0be4-4187-ad4b-8b0d7a1e3ec0",
   "metadata": {},
   "source": [
    "Fuel assembly types obtained from Luciano's thesis."
   ]
  },
  {
   "cell_type": "code",
   "execution_count": null,
   "id": "bb2ad901-b345-4617-a813-9054b4f3434e",
   "metadata": {},
   "outputs": [],
   "source": [
    "# Pitch of the fuel assembly:\n",
    "\n",
    "pitch = 1.233598\n",
    "\n",
    "# Size of the fuel assembly lattice:\n",
    "\n",
    "N = 16\n",
    "\n",
    "# Fuel assembly lattices:\n",
    "\n",
    "E21F1 = [[F1, F1, F1, F1, F1, F1, F1, F1, F1, F1, F1, F1, F1, F1, F1, F1],\n",
    "         [F1, F1, F1, F1, F1, F1, F1, F1, F1, F1, F1, F1, F1, F1, F1, F1],\n",
    "         [F1, F1, F1, F1, F1, ER, F1, F1, F1, F1, ER, F1, F1, F1, F1, F1],\n",
    "         [F1, F1, F1, ER, F1, F1, F1, ER, F1, F1, F1, F1, ER, F1, F1, F1],\n",
    "         [F1, F1, F1, F1, F1, F1, F1, F1, F1, F1, F1, F1, F1, F1, F1, F1],\n",
    "         [F1, F1, ER, F1, F1, ER, F1, F1, F1, F1, ER, F1, F1, ER, F1, F1],\n",
    "         [F1, F1, F1, F1, F1, F1, F1, F1, F1, F1, F1, F1, F1, F1, F1, F1],\n",
    "         [F1, F1, F1, F1, F1, F1, F1, F1, ER, F1, F1, F1, ER, F1, F1, F1],\n",
    "         [F1, F1, F1, ER, F1, F1, F1, F1, F1, F1, F1, F1, F1, F1, F1, F1],\n",
    "         [F1, F1, F1, F1, F1, F1, F1, F1, F1, F1, F1, F1, F1, F1, F1, F1],\n",
    "         [F1, F1, ER, F1, F1, ER, F1, F1, F1, F1, ER, F1, F1, ER, F1, F1],\n",
    "         [F1, F1, F1, F1, F1, F1, F1, F1, F1, F1, F1, F1, F1, F1, F1, F1],\n",
    "         [F1, F1, F1, ER, F1, F1, F1, F1, ER, F1, F1, F1, ER, F1, F1, F1],\n",
    "         [F1, F1, F1, F1, F1, ER, F1, F1, F1, F1, ER, F1, F1, F1, F1, F1],\n",
    "         [F1, F1, F1, F1, F1, F1, F1, F1, F1, F1, F1, F1, F1, F1, F1, F1],\n",
    "         [F1, F1, F1, F1, F1, F1, F1, F1, F1, F1, F1, F1, F1, F1, F1, F1]]\n",
    "\n",
    "E21F2 = [[F2, F2, F2, F2, F2, F2, F2, F2, F2, F2, F2, F2, F2, F2, F2, F2],\n",
    "         [F2, F2, F2, F2, F2, F2, F2, F2, F2, F2, F2, F2, F2, F2, F2, F2],\n",
    "         [F2, F2, F2, F2, F2, ER, F2, F2, F2, F2, ER, F2, F2, F2, F2, F2],\n",
    "         [F2, F2, F2, ER, F2, F2, F2, ER, F2, F2, F2, F2, ER, F2, F2, F2],\n",
    "         [F2, F2, F2, F2, F2, F2, F2, F2, F2, F2, F2, F2, F2, F2, F2, F2],\n",
    "         [F2, F2, ER, F2, F2, ER, F2, F2, F2, F2, ER, F2, F2, ER, F2, F2],\n",
    "         [F2, F2, F2, F2, F2, F2, F2, F2, F2, F2, F2, F2, F2, F2, F2, F2],\n",
    "         [F2, F2, F2, F2, F2, F2, F2, F2, ER, F2, F2, F2, ER, F2, F2, F2],\n",
    "         [F2, F2, F2, ER, F2, F2, F2, F2, F2, F2, F2, F2, F2, F2, F2, F2],\n",
    "         [F2, F2, F2, F2, F2, F2, F2, F2, F2, F2, F2, F2, F2, F2, F2, F2],\n",
    "         [F2, F2, ER, F2, F2, ER, F2, F2, F2, F2, ER, F2, F2, ER, F2, F2],\n",
    "         [F2, F2, F2, F2, F2, F2, F2, F2, F2, F2, F2, F2, F2, F2, F2, F2],\n",
    "         [F2, F2, F2, ER, F2, F2, F2, F2, ER, F2, F2, F2, ER, F2, F2, F2],\n",
    "         [F2, F2, F2, F2, F2, ER, F2, F2, F2, F2, ER, F2, F2, F2, F2, F2],\n",
    "         [F2, F2, F2, F2, F2, F2, F2, F2, F2, F2, F2, F2, F2, F2, F2, F2],\n",
    "         [F2, F2, F2, F2, F2, F2, F2, F2, F2, F2, F2, F2, F2, F2, F2, F2]]\n",
    "\n",
    "E21F3 = [[F3, F3, F3, F3, F3, F3, F3, F3, F3, F3, F3, F3, F3, F3, F3, F3],\n",
    "         [F3, F3, F3, F3, F3, F3, F3, F3, F3, F3, F3, F3, F3, F3, F3, F3],\n",
    "         [F3, F3, F3, F3, F3, ER, F3, F3, F3, F3, ER, F3, F3, F3, F3, F3],\n",
    "         [F3, F3, F3, ER, F3, F3, F3, ER, F3, F3, F3, F3, ER, F3, F3, F3],\n",
    "         [F3, F3, F3, F3, F3, F3, F3, F3, F3, F3, F3, F3, F3, F3, F3, F3],\n",
    "         [F3, F3, ER, F3, F3, ER, F3, F3, F3, F3, ER, F3, F3, ER, F3, F3],\n",
    "         [F3, F3, F3, F3, F3, F3, F3, F3, F3, F3, F3, F3, F3, F3, F3, F3],\n",
    "         [F3, F3, F3, F3, F3, F3, F3, F3, ER, F3, F3, F3, ER, F3, F3, F3],\n",
    "         [F3, F3, F3, ER, F3, F3, F3, F3, F3, F3, F3, F3, F3, F3, F3, F3],\n",
    "         [F3, F3, F3, F3, F3, F3, F3, F3, F3, F3, F3, F3, F3, F3, F3, F3],\n",
    "         [F3, F3, ER, F3, F3, ER, F3, F3, F3, F3, ER, F3, F3, ER, F3, F3],\n",
    "         [F3, F3, F3, F3, F3, F3, F3, F3, F3, F3, F3, F3, F3, F3, F3, F3],\n",
    "         [F3, F3, F3, ER, F3, F3, F3, F3, ER, F3, F3, F3, ER, F3, F3, F3],\n",
    "         [F3, F3, F3, F3, F3, ER, F3, F3, F3, F3, ER, F3, F3, F3, F3, F3],\n",
    "         [F3, F3, F3, F3, F3, F3, F3, F3, F3, F3, F3, F3, F3, F3, F3, F3],\n",
    "         [F3, F3, F3, F3, F3, F3, F3, F3, F3, F3, F3, F3, F3, F3, F3, F3]]\n",
    "\n",
    "C20F1 = [[F1, F1, F1, F1, F1, F1, F1, F1, F1, F1, F1, F1, F1, F1, F1, F1],\n",
    "         [F1, F1, F1, F1, F1, F1, F1, F1, F1, F1, F1, F1, F1, F1, F1, F1],\n",
    "         [F1, F1, F1, F1, F1, CR, F1, F1, F1, F1, CR, F1, F1, F1, F1, F1],\n",
    "         [F1, F1, F1, CR, F1, F1, F1, CR, F1, F1, F1, F1, CR, F1, F1, F1],\n",
    "         [F1, F1, F1, F1, F1, F1, F1, F1, F1, F1, F1, F1, F1, F1, F1, F1],\n",
    "         [F1, F1, CR, F1, F1, CR, F1, F1, F1, F1, CR, F1, F1, CR, F1, F1],\n",
    "         [F1, F1, F1, F1, F1, F1, F1, F1, F1, F1, F1, F1, F1, F1, F1, F1],\n",
    "         [F1, F1, F1, F1, F1, F1, F1, F1, ER, F1, F1, F1, CR, F1, F1, F1],\n",
    "         [F1, F1, F1, CR, F1, F1, F1, F1, F1, F1, F1, F1, F1, F1, F1, F1],\n",
    "         [F1, F1, F1, F1, F1, F1, F1, F1, F1, F1, F1, F1, F1, F1, F1, F1],\n",
    "         [F1, F1, CR, F1, F1, CR, F1, F1, F1, F1, CR, F1, F1, CR, F1, F1],\n",
    "         [F1, F1, F1, F1, F1, F1, F1, F1, F1, F1, F1, F1, F1, F1, F1, F1],\n",
    "         [F1, F1, F1, CR, F1, F1, F1, F1, CR, F1, F1, F1, CR, F1, F1, F1],\n",
    "         [F1, F1, F1, F1, F1, CR, F1, F1, F1, F1, CR, F1, F1, F1, F1, F1],\n",
    "         [F1, F1, F1, F1, F1, F1, F1, F1, F1, F1, F1, F1, F1, F1, F1, F1],\n",
    "         [F1, F1, F1, F1, F1, F1, F1, F1, F1, F1, F1, F1, F1, F1, F1, F1]]\n",
    "\n",
    "C20F2 = [[F2, F2, F2, F2, F2, F2, F2, F2, F2, F2, F2, F2, F2, F2, F2, F2],\n",
    "         [F2, F2, F2, F2, F2, F2, F2, F2, F2, F2, F2, F2, F2, F2, F2, F2],\n",
    "         [F2, F2, F2, F2, F2, CR, F2, F2, F2, F2, CR, F2, F2, F2, F2, F2],\n",
    "         [F2, F2, F2, CR, F2, F2, F2, CR, F2, F2, F2, F2, CR, F2, F2, F2],\n",
    "         [F2, F2, F2, F2, F2, F2, F2, F2, F2, F2, F2, F2, F2, F2, F2, F2],\n",
    "         [F2, F2, CR, F2, F2, CR, F2, F2, F2, F2, CR, F2, F2, CR, F2, F2],\n",
    "         [F2, F2, F2, F2, F2, F2, F2, F2, F2, F2, F2, F2, F2, F2, F2, F2],\n",
    "         [F2, F2, F2, F2, F2, F2, F2, F2, ER, F2, F2, F2, CR, F2, F2, F2],\n",
    "         [F2, F2, F2, CR, F2, F2, F2, F2, F2, F2, F2, F2, F2, F2, F2, F2],\n",
    "         [F2, F2, F2, F2, F2, F2, F2, F2, F2, F2, F2, F2, F2, F2, F2, F2],\n",
    "         [F2, F2, CR, F2, F2, CR, F2, F2, F2, F2, CR, F2, F2, CR, F2, F2],\n",
    "         [F2, F2, F2, F2, F2, F2, F2, F2, F2, F2, F2, F2, F2, F2, F2, F2],\n",
    "         [F2, F2, F2, CR, F2, F2, F2, F2, CR, F2, F2, F2, CR, F2, F2, F2],\n",
    "         [F2, F2, F2, F2, F2, CR, F2, F2, F2, F2, CR, F2, F2, F2, F2, F2],\n",
    "         [F2, F2, F2, F2, F2, F2, F2, F2, F2, F2, F2, F2, F2, F2, F2, F2],\n",
    "         [F2, F2, F2, F2, F2, F2, F2, F2, F2, F2, F2, F2, F2, F2, F2, F2]]\n",
    "\n",
    "B08F1 = [[F1, F1, F1, F1, F1, F1, F1, F1, F1, F1, F1, F1, F1, F1, F1, F1],\n",
    "         [F1, F1, F1, F1, F1, F1, F1, F1, F1, F1, F1, F1, F1, F1, F1, F1],\n",
    "         [F1, F1, F1, F1, F1, BR, F1, F1, F1, F1, BR, F1, F1, F1, F1, F1],\n",
    "         [F1, F1, F1, ER, F1, F1, F1, ER, F1, F1, F1, F1, ER, F1, F1, F1],\n",
    "         [F1, F1, F1, F1, F1, F1, F1, F1, F1, F1, F1, F1, F1, F1, F1, F1],\n",
    "         [F1, F1, BR, F1, F1, ER, F1, F1, F1, F1, ER, F1, F1, BR, F1, F1],\n",
    "         [F1, F1, F1, F1, F1, F1, F1, F1, F1, F1, F1, F1, F1, F1, F1, F1],\n",
    "         [F1, F1, F1, F1, F1, F1, F1, F1, ER, F1, F1, F1, ER, F1, F1, F1],\n",
    "         [F1, F1, F1, ER, F1, F1, F1, F1, F1, F1, F1, F1, F1, F1, F1, F1],\n",
    "         [F1, F1, F1, F1, F1, F1, F1, F1, F1, F1, F1, F1, F1, F1, F1, F1],\n",
    "         [F1, F1, BR, F1, F1, ER, F1, F1, F1, F1, ER, F1, F1, BR, F1, F1],\n",
    "         [F1, F1, F1, F1, F1, F1, F1, F1, F1, F1, F1, F1, F1, F1, F1, F1],\n",
    "         [F1, F1, F1, ER, F1, F1, F1, F1, ER, F1, F1, F1, ER, F1, F1, F1],\n",
    "         [F1, F1, F1, F1, F1, BR, F1, F1, F1, F1, BR, F1, F1, F1, F1, F1],\n",
    "         [F1, F1, F1, F1, F1, F1, F1, F1, F1, F1, F1, F1, F1, F1, F1, F1],\n",
    "         [F1, F1, F1, F1, F1, F1, F1, F1, F1, F1, F1, F1, F1, F1, F1, F1]]\n",
    "\n",
    "B08F2 = [[F2, F2, F2, F2, F2, F2, F2, F2, F2, F2, F2, F2, F2, F2, F2, F2],\n",
    "         [F2, F2, F2, F2, F2, F2, F2, F2, F2, F2, F2, F2, F2, F2, F2, F2],\n",
    "         [F2, F2, F2, F2, F2, BR, F2, F2, F2, F2, BR, F2, F2, F2, F2, F2],\n",
    "         [F2, F2, F2, ER, F2, F2, F2, ER, F2, F2, F2, F2, ER, F2, F2, F2],\n",
    "         [F2, F2, F2, F2, F2, F2, F2, F2, F2, F2, F2, F2, F2, F2, F2, F2],\n",
    "         [F2, F2, BR, F2, F2, ER, F2, F2, F2, F2, ER, F2, F2, BR, F2, F2],\n",
    "         [F2, F2, F2, F2, F2, F2, F2, F2, F2, F2, F2, F2, F2, F2, F2, F2],\n",
    "         [F2, F2, F2, F2, F2, F2, F2, F2, ER, F2, F2, F2, ER, F2, F2, F2],\n",
    "         [F2, F2, F2, ER, F2, F2, F2, F2, F2, F2, F2, F2, F2, F2, F2, F2],\n",
    "         [F2, F2, F2, F2, F2, F2, F2, F2, F2, F2, F2, F2, F2, F2, F2, F2],\n",
    "         [F2, F2, BR, F2, F2, ER, F2, F2, F2, F2, ER, F2, F2, BR, F2, F2],\n",
    "         [F2, F2, F2, F2, F2, F2, F2, F2, F2, F2, F2, F2, F2, F2, F2, F2],\n",
    "         [F2, F2, F2, ER, F2, F2, F2, F2, ER, F2, F2, F2, ER, F2, F2, F2],\n",
    "         [F2, F2, F2, F2, F2, BR, F2, F2, F2, F2, BR, F2, F2, F2, F2, F2],\n",
    "         [F2, F2, F2, F2, F2, F2, F2, F2, F2, F2, F2, F2, F2, F2, F2, F2],\n",
    "         [F2, F2, F2, F2, F2, F2, F2, F2, F2, F2, F2, F2, F2, F2, F2, F2]]\n",
    "\n",
    "B08F3 = [[F3, F3, F3, F3, F3, F3, F3, F3, F3, F3, F3, F3, F3, F3, F3, F3],\n",
    "         [F3, F3, F3, F3, F3, F3, F3, F3, F3, F3, F3, F3, F3, F3, F3, F3],\n",
    "         [F3, F3, F3, F3, F3, BR, F3, F3, F3, F3, BR, F3, F3, F3, F3, F3],\n",
    "         [F3, F3, F3, ER, F3, F3, F3, ER, F3, F3, F3, F3, ER, F3, F3, F3],\n",
    "         [F3, F3, F3, F3, F3, F3, F3, F3, F3, F3, F3, F3, F3, F3, F3, F3],\n",
    "         [F3, F3, BR, F3, F3, ER, F3, F3, F3, F3, ER, F3, F3, BR, F3, F3],\n",
    "         [F3, F3, F3, F3, F3, F3, F3, F3, F3, F3, F3, F3, F3, F3, F3, F3],\n",
    "         [F3, F3, F3, F3, F3, F3, F3, F3, ER, F3, F3, F3, ER, F3, F3, F3],\n",
    "         [F3, F3, F3, ER, F3, F3, F3, F3, F3, F3, F3, F3, F3, F3, F3, F3],\n",
    "         [F3, F3, F3, F3, F3, F3, F3, F3, F3, F3, F3, F3, F3, F3, F3, F3],\n",
    "         [F3, F3, BR, F3, F3, ER, F3, F3, F3, F3, ER, F3, F3, BR, F3, F3],\n",
    "         [F3, F3, F3, F3, F3, F3, F3, F3, F3, F3, F3, F3, F3, F3, F3, F3],\n",
    "         [F3, F3, F3, ER, F3, F3, F3, F3, ER, F3, F3, F3, ER, F3, F3, F3],\n",
    "         [F3, F3, F3, F3, F3, BR, F3, F3, F3, F3, BR, F3, F3, F3, F3, F3],\n",
    "         [F3, F3, F3, F3, F3, F3, F3, F3, F3, F3, F3, F3, F3, F3, F3, F3],\n",
    "         [F3, F3, F3, F3, F3, F3, F3, F3, F3, F3, F3, F3, F3, F3, F3, F3]]\n",
    "\n",
    "B12F2 = [[F2, F2, F2, F2, F2, F2, F2, F2, F2, F2, F2, F2, F2, F2, F2, F2],\n",
    "         [F2, F2, F2, F2, F2, F2, F2, F2, F2, F2, F2, F2, F2, F2, F2, F2],\n",
    "         [F2, F2, F2, F2, F2, BR, F2, F2, F2, F2, BR, F2, F2, F2, F2, F2],\n",
    "         [F2, F2, F2, ER, F2, F2, F2, ER, F2, F2, F2, F2, ER, F2, F2, F2],\n",
    "         [F2, F2, F2, F2, F2, F2, F2, F2, F2, F2, F2, F2, F2, F2, F2, F2],\n",
    "         [F2, F2, BR, F2, F2, BR, F2, F2, F2, F2, BR, F2, F2, BR, F2, F2],\n",
    "         [F2, F2, F2, F2, F2, F2, F2, F2, F2, F2, F2, F2, F2, F2, F2, F2],\n",
    "         [F2, F2, F2, F2, F2, F2, F2, F2, ER, F2, F2, F2, ER, F2, F2, F2],\n",
    "         [F2, F2, F2, ER, F2, F2, F2, F2, F2, F2, F2, F2, F2, F2, F2, F2],\n",
    "         [F2, F2, F2, F2, F2, F2, F2, F2, F2, F2, F2, F2, F2, F2, F2, F2],\n",
    "         [F2, F2, BR, F2, F2, BR, F2, F2, F2, F2, BR, F2, F2, BR, F2, F2],\n",
    "         [F2, F2, F2, F2, F2, F2, F2, F2, F2, F2, F2, F2, F2, F2, F2, F2],\n",
    "         [F2, F2, F2, ER, F2, F2, F2, F2, ER, F2, F2, F2, ER, F2, F2, F2],\n",
    "         [F2, F2, F2, F2, F2, BR, F2, F2, F2, F2, BR, F2, F2, F2, F2, F2],\n",
    "         [F2, F2, F2, F2, F2, F2, F2, F2, F2, F2, F2, F2, F2, F2, F2, F2],\n",
    "         [F2, F2, F2, F2, F2, F2, F2, F2, F2, F2, F2, F2, F2, F2, F2, F2]]\n",
    "\n",
    "B16F2 = [[F2, F2, F2, F2, F2, F2, F2, F2, F2, F2, F2, F2, F2, F2, F2, F2],\n",
    "         [F2, F2, F2, F2, F2, F2, F2, F2, F2, F2, F2, F2, F2, F2, F2, F2],\n",
    "         [F2, F2, F2, F2, F2, BR, F2, F2, F2, F2, BR, F2, F2, F2, F2, F2],\n",
    "         [F2, F2, F2, BR, F2, F2, F2, ER, F2, F2, F2, F2, BR, F2, F2, F2],\n",
    "         [F2, F2, F2, F2, F2, F2, F2, F2, F2, F2, F2, F2, F2, F2, F2, F2],\n",
    "         [F2, F2, BR, F2, F2, BR, F2, F2, F2, F2, BR, F2, F2, BR, F2, F2],\n",
    "         [F2, F2, F2, F2, F2, F2, F2, F2, F2, F2, F2, F2, F2, F2, F2, F2],\n",
    "         [F2, F2, F2, F2, F2, F2, F2, F2, ER, F2, F2, F2, ER, F2, F2, F2],\n",
    "         [F2, F2, F2, ER, F2, F2, F2, F2, F2, F2, F2, F2, F2, F2, F2, F2],\n",
    "         [F2, F2, F2, F2, F2, F2, F2, F2, F2, F2, F2, F2, F2, F2, F2, F2],\n",
    "         [F2, F2, BR, F2, F2, BR, F2, F2, F2, F2, BR, F2, F2, BR, F2, F2],\n",
    "         [F2, F2, F2, F2, F2, F2, F2, F2, F2, F2, F2, F2, F2, F2, F2, F2],\n",
    "         [F2, F2, F2, BR, F2, F2, F2, F2, ER, F2, F2, F2, BR, F2, F2, F2],\n",
    "         [F2, F2, F2, F2, F2, BR, F2, F2, F2, F2, BR, F2, F2, F2, F2, F2],\n",
    "         [F2, F2, F2, F2, F2, F2, F2, F2, F2, F2, F2, F2, F2, F2, F2, F2],\n",
    "         [F2, F2, F2, F2, F2, F2, F2, F2, F2, F2, F2, F2, F2, F2, F2, F2]]"
   ]
  },
  {
   "cell_type": "markdown",
   "id": "cd9faee2-e743-413e-8650-9d003c1693ad",
   "metadata": {},
   "source": [
    "### Active core geometry"
   ]
  },
  {
   "cell_type": "markdown",
   "id": "97419ca8-6e50-4878-b4ce-f5a29d58ddee",
   "metadata": {},
   "source": [
    "Core map obtained from Westinghouses's Angra 1 Cycle 1 Data Book."
   ]
  },
  {
   "cell_type": "code",
   "execution_count": null,
   "id": "7381386d-b26e-41cd-b99c-7e264e7d5b7c",
   "metadata": {
    "tags": []
   },
   "outputs": [],
   "source": [
    "# Size of active core lattice:\n",
    "\n",
    "NA = 13\n",
    "\n",
    "# Active core map:\n",
    "\n",
    "core_map = [['OUT', 'OUT', 'OUT', 'OUT', 'OUT', E21F3, E21F3, E21F3, 'OUT', 'OUT', 'OUT', 'OUT', 'OUT'],\n",
    "            ['OUT', 'OUT', 'OUT', E21F3, E21F3, E21F2, B08F2, E21F2, E21F3, E21F3, 'OUT', 'OUT', 'OUT'],\n",
    "            ['OUT', 'OUT', E21F3, B08F3, E21F1, B12F2, E21F1, B12F2, E21F1, B08F3, E21F3, 'OUT', 'OUT'],\n",
    "            ['OUT', E21F3, B08F3, E21F1, B12F2, E21F1, B16F2, E21F1, B12F2, E21F1, B08F3, E21F3, 'OUT'],\n",
    "            ['OUT', E21F3, E21F1, B12F2, E21F1, B16F2, E21F1, B16F2, E21F1, B12F2, E21F1, E21F3, 'OUT'],\n",
    "            [E21F3, E21F2, B12F2, E21F1, B16F2, E21F1, B08F1, E21F1, B16F2, E21F1, B12F2, E21F2, E21F3],\n",
    "            [E21F3, B08F2, E21F1, B16F2, E21F1, B08F1, E21F1, B08F1, E21F1, B16F2, E21F1, B08F2, E21F3],\n",
    "            [E21F3, E21F2, B12F2, E21F1, B16F2, E21F1, B08F1, E21F1, B16F2, E21F1, B12F2, E21F2, E21F3],\n",
    "            ['OUT', E21F3, E21F1, B12F2, E21F1, B16F2, E21F1, B16F2, E21F1, B12F2, E21F1, E21F3, 'OUT'],\n",
    "            ['OUT', E21F3, B08F3, E21F1, B12F2, E21F1, B16F2, E21F1, B12F2, E21F1, B08F3, E21F3, 'OUT'],\n",
    "            ['OUT', 'OUT', E21F3, B08F3, E21F1, B12F2, E21F1, B12F2, E21F1, B08F3, E21F3, 'OUT', 'OUT'],\n",
    "            ['OUT', 'OUT', 'OUT', E21F3, E21F3, E21F2, B08F2, E21F2, E21F3, E21F3, 'OUT', 'OUT', 'OUT'],\n",
    "            ['OUT', 'OUT', 'OUT', 'OUT', 'OUT', E21F3, E21F3, E21F3, 'OUT', 'OUT', 'OUT', 'OUT', 'OUT']]\n",
    "\n",
    "# X planes list:\n",
    "\n",
    "x_planes = []\n",
    "for i in range(NA + 1):\n",
    "    x_planes.append(openmc.XPlane(x0 = -(pitch*N*NA/2) + (pitch*N*i)))\n",
    "    \n",
    "# Y planes list:\n",
    "\n",
    "y_planes = []\n",
    "for j in range(NA + 1):\n",
    "    y_planes.append(openmc.YPlane(y0 = -(pitch*N*NA/2) + (pitch*N*j)))\n",
    "\n",
    "# Active core region and cells:\n",
    "\n",
    "regions_list = []\n",
    "fuel_assembly_list = []\n",
    "\n",
    "for i in range(NA):\n",
    "    for j in range(NA):\n",
    "        if core_map[i][j] != 'OUT':\n",
    "            region = +x_planes[i] & -x_planes[i + 1] & +y_planes[j] & -y_planes[j + 1]\n",
    "            regions_list.append(region)\n",
    "            lattice = openmc.RectLattice()\n",
    "            lattice.pitch = (pitch, pitch)\n",
    "            lattice.lower_left = [x_planes[i].x0, y_planes[j].y0]\n",
    "            lattice.universes = core_map[i][j]\n",
    "            cell = openmc.Cell(fill = lattice, region = region)\n",
    "            fuel_assembly_list.append(cell)\n",
    "            \n",
    "active_core_region = openmc.Union(regions_list)"
   ]
  },
  {
   "cell_type": "markdown",
   "id": "3677ddab-36a6-4191-8a2d-d02e94568a69",
   "metadata": {},
   "source": [
    "Reflector thickness obtained from Luciano's thesis."
   ]
  },
  {
   "cell_type": "code",
   "execution_count": null,
   "id": "f6567c84-f4fe-43c4-ba19-52b8fb0ff673",
   "metadata": {},
   "outputs": [],
   "source": [
    "reflector_thickness = 2.86\n",
    "\n",
    "reflector_x_planes = []\n",
    "reflector_y_planes = []\n",
    "\n",
    "for plane in x_planes:\n",
    "    if plane.x0 > 0:\n",
    "        reflector_plane = openmc.XPlane(x0 = plane.x0 + reflector_thickness)\n",
    "        reflector_x_planes.append(reflector_plane)\n",
    "    if plane.x0 < 0:\n",
    "        reflector_plane = openmc.XPlane(x0 = plane.x0 - reflector_thickness)\n",
    "        reflector_x_planes.append(reflector_plane)\n",
    "        \n",
    "for plane in y_planes:\n",
    "    if plane.y0 > 0:\n",
    "        reflector_plane = openmc.YPlane(y0 = plane.y0 + reflector_thickness)\n",
    "        reflector_y_planes.append(reflector_plane)\n",
    "    if plane.y0 < 0:\n",
    "        reflector_plane = openmc.YPlane(y0 = plane.y0 - reflector_thickness)\n",
    "        reflector_y_planes.append(reflector_plane)\n",
    "\n",
    "reflector_regions_list = []\n",
    "\n",
    "for i in range(NA):\n",
    "    for j in range(NA):\n",
    "        if core_map[i][j] != 'OUT':\n",
    "            region = +reflector_x_planes[i] & -reflector_x_planes[i + 1] & +reflector_y_planes[j] & -reflector_y_planes[j + 1]\n",
    "            reflector_regions_list.append(region)\n",
    "            \n",
    "reflector_region = openmc.Union(reflector_regions_list) & ~active_core_region\n",
    "\n",
    "reflector = openmc.Cell(fill = Steel, region = reflector_region)"
   ]
  },
  {
   "cell_type": "markdown",
   "id": "27dcdaab-2929-422a-acec-5a90b757c403",
   "metadata": {},
   "source": [
    "### Exterior of the active core"
   ]
  },
  {
   "cell_type": "markdown",
   "id": "c7ac038c-5fd6-47ee-9a22-a5ffd15bac34",
   "metadata": {},
   "source": [
    "Core barrel, thermal shield and reactor vessel radii and thicknesses obtained from Luciano's thesis."
   ]
  },
  {
   "cell_type": "code",
   "execution_count": null,
   "id": "bd3bbdcb-f00b-47b7-85a6-a7651bccef13",
   "metadata": {},
   "outputs": [],
   "source": [
    "# Exterior of the active core surfaces:\n",
    "\n",
    "core_barrel_inner_radius = openmc.ZCylinder(x0 = 0.0, y0 = 0.0, r = 138.43)\n",
    "core_barrel_outer_radius = openmc.ZCylinder(x0 = 0.0, y0 = 0.0, r = 138.43 + 4.53)\n",
    "\n",
    "thermal_shield_inner_radius = openmc.ZCylinder(x0 = 0.0, y0 = 0.0, r = 146.40)\n",
    "thermal_shield_outer_radius = openmc.ZCylinder(x0 = 0.0, y0 = 0.0, r = 146.40 + 9.10)\n",
    "\n",
    "reactor_vessel_inner_radius = openmc.ZCylinder(x0 = 0.0, y0 = 0.0, r = 167.64)\n",
    "reactor_vessel_outer_radius = openmc.ZCylinder(x0 = 0.0, y0 = 0.0, r = 167.64 + 16.83, boundary_type = 'vacuum')\n",
    "\n",
    "# Exterior of the active core regions:\n",
    "\n",
    "water_region_I = ~openmc.Union([active_core_region, reflector_region]) & -core_barrel_inner_radius\n",
    "\n",
    "core_barrel_region = +core_barrel_inner_radius & -core_barrel_outer_radius\n",
    "\n",
    "water_region_II = +core_barrel_outer_radius & -thermal_shield_inner_radius\n",
    "\n",
    "thermal_shield_region = +thermal_shield_inner_radius & -thermal_shield_outer_radius\n",
    "\n",
    "water_region_III = +thermal_shield_outer_radius & -reactor_vessel_inner_radius\n",
    "\n",
    "reactor_vessel_region = +reactor_vessel_inner_radius & -reactor_vessel_outer_radius\n",
    "\n",
    "# Exterior of active core cells:\n",
    "\n",
    "water_cell_I = openmc.Cell(fill = H2O, region = water_region_I)\n",
    "\n",
    "core_barrel = openmc.Cell(fill = Steel, region = core_barrel_region)\n",
    "\n",
    "water_cell_II = openmc.Cell(fill = H2O, region = water_region_II)\n",
    "\n",
    "thermal_shield = openmc.Cell(fill = Inconel, region = thermal_shield_region)\n",
    "\n",
    "water_cell_III = openmc.Cell(fill = H2O, region = water_region_III)\n",
    "\n",
    "reactor_vessel = openmc.Cell(fill = Inconel, region = reactor_vessel_region)"
   ]
  },
  {
   "cell_type": "markdown",
   "id": "d94cd468-e68e-4d49-92a1-978b26a405e8",
   "metadata": {},
   "source": [
    "### Packing up the geometry"
   ]
  },
  {
   "cell_type": "code",
   "execution_count": null,
   "id": "4c6caff4-a5c4-4139-9494-163f77bf379b",
   "metadata": {},
   "outputs": [],
   "source": [
    "# Height of the model:\n",
    "\n",
    "height = 1.00\n",
    "\n",
    "# Surfaces that bound the model and their boundary conditions:\n",
    "\n",
    "min_z = openmc.ZPlane(z0 = -height/2, boundary_type = 'periodic')\n",
    "max_z = openmc.ZPlane(z0 = +height/2, boundary_type = 'periodic')\n",
    "\n",
    "min_z.periodic_surface = max_z\n",
    "\n",
    "# Full core universe:\n",
    "\n",
    "full_core = openmc.Universe(name = 'Full Core', cells = fuel_assembly_list + [reflector, water_cell_I, core_barrel, water_cell_II, thermal_shield, water_cell_III, reactor_vessel])\n",
    "\n",
    "# Root cell:\n",
    "\n",
    "root_cell = openmc.Cell(name = 'Root Cell', fill = full_core, region = +min_z & -max_z)\n",
    "\n",
    "# Root universe:\n",
    "\n",
    "root_universe = openmc.Universe(name = 'Root Universe', cells = [root_cell])\n",
    "\n",
    "# Exporting the geometry to XML:\n",
    "\n",
    "geometry = openmc.Geometry(root = root_universe)\n",
    "geometry.export_to_xml()"
   ]
  },
  {
   "cell_type": "markdown",
   "id": "authentic-concentration",
   "metadata": {},
   "source": [
    "# Tallies"
   ]
  },
  {
   "cell_type": "code",
   "execution_count": null,
   "id": "6db8b25a-cd1b-45ff-8444-dc7819feeace",
   "metadata": {},
   "outputs": [],
   "source": [
    "# Universe Tally:\n",
    "\n",
    "universe_filter = openmc.UniverseFilter(root_universe)\n",
    "\n",
    "T1 = openmc.Tally(1, name = 'Universe Tally')\n",
    "T1.filters = [universe_filter]\n",
    "T1.scores = ['heating-local', 'prompt-nu-fission', 'delayed-nu-fission']\n",
    "\n",
    "# Energy Tally:\n",
    "\n",
    "energy_bins = np.logspace(start = -3, stop = 7, num = 1000, endpoint = True, base = 10)\n",
    "energy_filter = openmc.EnergyFilter(energy_bins)\n",
    "\n",
    "T2 = openmc.Tally(2, name = 'Energy Tally')\n",
    "T2.filters = [energy_filter]\n",
    "T2.scores = ['flux']\n",
    "\n",
    "# Assembly Mesh Tally:\n",
    "\n",
    "assembly_mesh = openmc.RegularMesh()\n",
    "assembly_mesh.dimension = [NA, NA, 1]\n",
    "assembly_mesh.lower_left = [-pitch*N*NA/2, -pitch*N*NA/2, -height/2]\n",
    "assembly_mesh.upper_right = [pitch*N*NA/2, pitch*N*NA/2, height/2]\n",
    "\n",
    "assembly_mesh_filter = openmc.MeshFilter(assembly_mesh)\n",
    "\n",
    "T3 = openmc.Tally(3, name = 'Assembly Mesh Tally')\n",
    "T3.filters = [assembly_mesh_filter]\n",
    "T3.scores = ['flux', 'heating-local']\n",
    "\n",
    "# Rod Mesh Tally:\n",
    "\n",
    "rod_mesh = openmc.RegularMesh()\n",
    "rod_mesh.dimension = [N*NA, N*NA, 1]\n",
    "rod_mesh.lower_left = [-pitch*N*NA/2, -pitch*N*NA/2, -height/2]\n",
    "rod_mesh.upper_right = [pitch*N*NA/2, pitch*N*NA/2, height/2]\n",
    "\n",
    "rod_mesh_filter = openmc.MeshFilter(rod_mesh)\n",
    "\n",
    "T4 = openmc.Tally(4, name = 'Rod Mesh Tally')\n",
    "T4.filters = [rod_mesh_filter]\n",
    "T4.scores = ['flux', 'heating-local']\n",
    "\n",
    "# Exporting the tallies list to XML:\n",
    "\n",
    "tallies = openmc.Tallies([T1, T2, T3, T4])\n",
    "tallies.export_to_xml()"
   ]
  },
  {
   "cell_type": "markdown",
   "id": "logical-secondary",
   "metadata": {},
   "source": [
    "# Settings"
   ]
  },
  {
   "cell_type": "code",
   "execution_count": null,
   "id": "9eba0327-27eb-44d4-8aa5-39ff0a4c1ea6",
   "metadata": {},
   "outputs": [],
   "source": [
    "# Defining a settings object:\n",
    "\n",
    "settings = openmc.Settings()"
   ]
  },
  {
   "cell_type": "markdown",
   "id": "d800591f-1a51-4761-8e98-1269ae8c69e6",
   "metadata": {},
   "source": [
    "## Initial particle source"
   ]
  },
  {
   "cell_type": "code",
   "execution_count": null,
   "id": "d1be23b4-27dd-4e86-8975-ee5fe9715ffd",
   "metadata": {},
   "outputs": [],
   "source": [
    "# Spatial distribution that includes all regions with fissile material:\n",
    "\n",
    "spatial_dist = openmc.stats.Box([-pitch*N*NA/2, -pitch*N*NA/2, -height/2], [pitch*N*NA/2, pitch*N*NA/2, height/2], only_fissionable = True)\n",
    "\n",
    "# Isotropic angular distribution:\n",
    "\n",
    "angular_dist = openmc.stats.Isotropic()\n",
    "\n",
    "# Watt spectrum energy distribution:\n",
    "\n",
    "energy_dist = openmc.stats.Watt()\n",
    "\n",
    "# Defining the initial particle source:\n",
    "\n",
    "origin = openmc.Source(space = spatial_dist, angle = angular_dist, energy = energy_dist, particle = 'neutron')\n",
    "\n",
    "# Setting the source variable:\n",
    "\n",
    "settings.source = origin"
   ]
  },
  {
   "cell_type": "markdown",
   "id": "447dacb1-362e-451e-a6e4-a6511d3d0dcb",
   "metadata": {},
   "source": [
    "## Shannon entropy mesh"
   ]
  },
  {
   "cell_type": "code",
   "execution_count": null,
   "id": "8cb28a00-d1b7-4f1f-86ae-4c0766ad5779",
   "metadata": {},
   "outputs": [],
   "source": [
    "entropy_mesh = openmc.RegularMesh()\n",
    "entropy_mesh.lower_left = [-pitch*N*NA/2, -pitch*N*NA/2, -height/2]\n",
    "entropy_mesh.upper_right = [pitch*N*NA/2, pitch*N*NA/2, height/2]\n",
    "entropy_mesh.dimension = [4*NA, 4*NA, 1]\n",
    "settings.entropy_mesh = entropy_mesh"
   ]
  },
  {
   "cell_type": "markdown",
   "id": "cc9fb764-16e5-4b9a-8993-c7322d3def97",
   "metadata": {},
   "source": [
    "## Simulation parameters"
   ]
  },
  {
   "cell_type": "code",
   "execution_count": null,
   "id": "77b66a41-08d0-4f63-a946-be75c60937c6",
   "metadata": {},
   "outputs": [],
   "source": [
    "# Execution mode:\n",
    "\n",
    "settings.run_mode = 'eigenvalue'\n",
    "settings.photon_transport = False\n",
    "settings.create_fission_neutrons = True\n",
    "settings.energy_mode = 'continuous-energy'\n",
    "settings.electron_treatment = 'led'\n",
    "\n",
    "# Number of particles and batches:\n",
    "\n",
    "settings.particles = 54080\n",
    "settings.generations_per_batch = 3\n",
    "settings.inactive = 50\n",
    "settings.batches = 250\n",
    "\n",
    "# Temperature treatment:\n",
    "\n",
    "settings.temperature = {'default': T, 'method': 'interpolation', 'multipole': False}\n",
    "\n",
    "# Uncertainty reporting mode:\n",
    "\n",
    "settings.confidence_intervals = False\n",
    "\n",
    "# Output files:\n",
    "\n",
    "settings.output = {'path': './', 'summary': True, 'tallies': False}\n",
    "\n",
    "# Exporting settings to XML:\n",
    "\n",
    "settings.export_to_xml()"
   ]
  },
  {
   "cell_type": "markdown",
   "id": "029e7fe9-0cf8-4fda-8368-4fa2ff29a34c",
   "metadata": {},
   "source": [
    "# Geometry ploting mode"
   ]
  },
  {
   "cell_type": "markdown",
   "id": "4c65c074-e950-422e-9ffb-a5afdc00731f",
   "metadata": {},
   "source": [
    "## Full core plot"
   ]
  },
  {
   "cell_type": "code",
   "execution_count": null,
   "id": "fd57472e-753a-4654-8c0b-006c4411e459",
   "metadata": {},
   "outputs": [],
   "source": [
    "TR = 167.64 + 16.83\n",
    "full_core_plot = openmc.Plot(name = 'Angra 1 Full Core Plot')\n",
    "full_core_plot.basis = 'xy'\n",
    "full_core_plot.origin = (0.0, 0.0, 0.0)\n",
    "full_core_plot.width = (2*TR, 2*TR)\n",
    "full_core_plot.pixels = (15000, 15000)\n",
    "full_core_plot.color_by = 'material'\n",
    "full_core_plot.colors = {UO2_21: 'yellow', UO2_26: 'pink', UO2_31: 'orange', Helium: 'red', Zircaloy: 'darkgray', \n",
    "                         H2O: 'blue', AgInCd: 'goldenrod', Borosilicate: 'goldenrod', Steel: 'darkgray', Inconel: 'darkgray', Air: 'azure'}\n",
    "full_core_plot.show_overlaps = True\n",
    "full_core_plot.overlap_color = 'black'"
   ]
  },
  {
   "cell_type": "markdown",
   "id": "bde11c7a-b438-41e9-a196-8d9ff134cdfd",
   "metadata": {},
   "source": [
    "## Assembly plot"
   ]
  },
  {
   "cell_type": "code",
   "execution_count": null,
   "id": "763c007e-137c-4fc8-bae6-a2da39e9afc1",
   "metadata": {},
   "outputs": [],
   "source": [
    "assembly_plot = openmc.Plot(name = 'Angra 1 Assembly Plot')\n",
    "assembly_plot.basis = 'xy'\n",
    "assembly_plot.origin = (2*N*pitch, 3*N*pitch, 0.0)\n",
    "assembly_plot.width = (N*pitch, N*pitch)\n",
    "assembly_plot.pixels = (2000, 2000)\n",
    "assembly_plot.color_by = 'material'\n",
    "assembly_plot.colors = {UO2_21: 'yellow', UO2_26: 'pink', UO2_31: 'orange', Helium: 'red', Zircaloy: 'darkgray', \n",
    "                         H2O: 'blue', AgInCd: 'goldenrod', Borosilicate: 'goldenrod', Steel: 'darkgray', Inconel: 'darkgray', Air: 'azure'}\n",
    "assembly_plot.show_overlaps = True\n",
    "assembly_plot.overlap_color = 'black'"
   ]
  },
  {
   "cell_type": "markdown",
   "id": "58c7d41c-2f64-403b-bf09-07560944daaa",
   "metadata": {},
   "source": [
    "## Generating the plots"
   ]
  },
  {
   "cell_type": "code",
   "execution_count": null,
   "id": "557fe158-28fa-43c0-99f8-7323931fb882",
   "metadata": {},
   "outputs": [],
   "source": [
    "geometry_plots = openmc.Plots([full_core_plot])\n",
    "geometry_plots.export_to_xml()\n",
    "openmc.plot_geometry()"
   ]
  },
  {
   "cell_type": "markdown",
   "id": "behavioral-better",
   "metadata": {},
   "source": [
    "# Running the simulation"
   ]
  },
  {
   "cell_type": "code",
   "execution_count": null,
   "id": "rental-monthly",
   "metadata": {},
   "outputs": [],
   "source": [
    "openmc.run()"
   ]
  }
 ],
 "metadata": {
  "kernelspec": {
   "display_name": "Python 3 (ipykernel)",
   "language": "python",
   "name": "python3"
  },
  "language_info": {
   "codemirror_mode": {
    "name": "ipython",
    "version": 3
   },
   "file_extension": ".py",
   "mimetype": "text/x-python",
   "name": "python",
   "nbconvert_exporter": "python",
   "pygments_lexer": "ipython3",
   "version": "3.10.8"
  },
  "toc-autonumbering": true
 },
 "nbformat": 4,
 "nbformat_minor": 5
}
